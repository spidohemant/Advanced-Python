{
 "cells": [
  {
   "cell_type": "code",
   "execution_count": 1,
   "metadata": {},
   "outputs": [
    {
     "name": "stdout",
     "output_type": "stream",
     "text": [
      "0 hemant\n",
      "1 aditya\n",
      "2 srijan\n"
     ]
    }
   ],
   "source": [
    "#enumerate\n",
    "list=['hemant','aditya','srijan']\n",
    "for i,j in enumerate(list):\n",
    "    print(i,j)"
   ]
  },
  {
   "cell_type": "code",
   "execution_count": 2,
   "metadata": {},
   "outputs": [
    {
     "name": "stdout",
     "output_type": "stream",
     "text": [
      "('hemant', 'aditya') (1, 2)\n"
     ]
    }
   ],
   "source": [
    "#Unzipping\n",
    "list=[['hemant',1],['aditya',2]]\n",
    "a,b=zip(*list)\n",
    "print(a,b)"
   ]
  },
  {
   "cell_type": "code",
   "execution_count": 4,
   "metadata": {},
   "outputs": [
    {
     "name": "stdout",
     "output_type": "stream",
     "text": [
      "hemant 1\n",
      "aditya 2\n",
      "srijan 3\n"
     ]
    }
   ],
   "source": [
    "#Zipping\n",
    "list1=['hemant','aditya','srijan']\n",
    "list2=[1,2,3]\n",
    "for a,b in zip(list1,list2):\n",
    "    print(a,b)"
   ]
  },
  {
   "cell_type": "code",
   "execution_count": 5,
   "metadata": {},
   "outputs": [
    {
     "name": "stdout",
     "output_type": "stream",
     "text": [
      "0 Paneer\n",
      "1 Chicken\n",
      "2 Biryani\n"
     ]
    }
   ],
   "source": [
    "#index\n",
    "list=['Paneer','Chicken','Biryani']\n",
    "for i,j in zip(range(len(list)),list):\n",
    "    print(i,j)"
   ]
  }
 ],
 "metadata": {
  "kernelspec": {
   "display_name": "Python 3",
   "language": "python",
   "name": "python3"
  },
  "language_info": {
   "codemirror_mode": {
    "name": "ipython",
    "version": 3
   },
   "file_extension": ".py",
   "mimetype": "text/x-python",
   "name": "python",
   "nbconvert_exporter": "python",
   "pygments_lexer": "ipython3",
   "version": "3.7.3"
  }
 },
 "nbformat": 4,
 "nbformat_minor": 2
}
