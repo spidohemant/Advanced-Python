{
 "cells": [
  {
   "cell_type": "code",
   "execution_count": 1,
   "metadata": {},
   "outputs": [],
   "source": [
    "import itertools as it"
   ]
  },
  {
   "cell_type": "code",
   "execution_count": 2,
   "metadata": {},
   "outputs": [],
   "source": [
    "a='abcd'\n",
    "b='1234'"
   ]
  },
  {
   "cell_type": "code",
   "execution_count": 3,
   "metadata": {},
   "outputs": [
    {
     "name": "stdout",
     "output_type": "stream",
     "text": [
      "['a', 'b', 'c', 'd', '1', '2', '3', '4']\n"
     ]
    }
   ],
   "source": [
    "c=it.chain(a,b)    #use chain to connect sequences together\n",
    "print(list(c))"
   ]
  },
  {
   "cell_type": "code",
   "execution_count": 4,
   "metadata": {},
   "outputs": [
    {
     "name": "stdout",
     "output_type": "stream",
     "text": [
      "5 10 15 20 25 30 35 40 45 50 "
     ]
    }
   ],
   "source": [
    "\"\"\" count(start, step): This iterator starts printing from the “start” number and prints infinitely. If steps\n",
    "are mentioned, the numbers are skipped else step is 1 by default.\n",
    "See the below example for its use with for in loop.\"\"\"\n",
    "\n",
    "for i in it.count(5,5):\n",
    "    if i>50:\n",
    "        break\n",
    "    else:\n",
    "        print(i,end=\" \")"
   ]
  },
  {
   "cell_type": "code",
   "execution_count": 5,
   "metadata": {},
   "outputs": [
    {
     "name": "stdout",
     "output_type": "stream",
     "text": [
      "A B A B A B A B "
     ]
    }
   ],
   "source": [
    "\"\"\"\n",
    "cycle(iterable): This iterator prints all values in order from the passed container.It restarts printing \n",
    "from the beginning again when all elements are printed in a cyclic manner.\n",
    "\"\"\"\n",
    "\n",
    "count = 0\n",
    "    \n",
    "# for in loop  \n",
    "for i in it.cycle('AB'):  \n",
    "    if count > 7:  \n",
    "        break\n",
    "    else:  \n",
    "        print(i, end = \" \")  \n",
    "        count +=1"
   ]
  },
  {
   "cell_type": "code",
   "execution_count": 6,
   "metadata": {},
   "outputs": [
    {
     "name": "stdout",
     "output_type": "stream",
     "text": [
      "Geeks for Geeks Geeks for Geeks Geeks for Geeks "
     ]
    }
   ],
   "source": [
    "# Python program to demonstrate  \n",
    "# infinite iterators  \n",
    "    \n",
    "import itertools  \n",
    "    \n",
    "l = ['Geeks', 'for', 'Geeks']  \n",
    "    \n",
    "# defining iterator  \n",
    "iterators = itertools.cycle(l)  \n",
    "    \n",
    "# for in loop  \n",
    "for i in range(9):  \n",
    "        \n",
    "    # Using next function  \n",
    "    print(next(iterators), end = \" \")"
   ]
  },
  {
   "cell_type": "code",
   "execution_count": 7,
   "metadata": {},
   "outputs": [
    {
     "name": "stdout",
     "output_type": "stream",
     "text": [
      "[10, 10, 10, 10, 10]\n"
     ]
    }
   ],
   "source": [
    "\"\"\"\n",
    "repeat(val, num): This iterator repeatedly prints the passed value infinite number of times.\n",
    "If the optional keyword num is mentioned, then it repeatedly prints num number of times.\n",
    "\"\"\"\n",
    "\n",
    "print(list(itertools.repeat(10,5)))"
   ]
  },
  {
   "cell_type": "code",
   "execution_count": 8,
   "metadata": {},
   "outputs": [
    {
     "name": "stdout",
     "output_type": "stream",
     "text": [
      "The cartesian product using repeat:\n",
      "[(1, 1), (1, 2), (2, 1), (2, 2)]\n",
      "\n",
      "The cartesian product of the containers:\n",
      "[('geeks', '2'), ('for', '2'), ('geeks', '2')]\n",
      "\n",
      "The cartesian product of the containers:\n",
      "[('A', 3), ('A', 4), ('B', 3), ('B', 4)]\n"
     ]
    }
   ],
   "source": [
    "# use for compute the cartesian product\n",
    "from itertools import product  \n",
    "    \n",
    "print(\"The cartesian product using repeat:\")  \n",
    "print(list(product([1, 2], repeat = 2)))  \n",
    "print()  \n",
    "    \n",
    "print(\"The cartesian product of the containers:\")  \n",
    "print(list(product(['geeks', 'for', 'geeks'], '2')))  \n",
    "print()  \n",
    "print(\"The cartesian product of the containers:\")  \n",
    "print(list(product('AB', [3, 4])))"
   ]
  },
  {
   "cell_type": "code",
   "execution_count": 9,
   "metadata": {},
   "outputs": [
    {
     "name": "stdout",
     "output_type": "stream",
     "text": [
      "All the permutations of the given list is:\n",
      "[(1, 'geeks'), ('geeks', 1)]\n",
      "\n",
      "All the permutations of the given string is:\n",
      "[('A', 'B'), ('B', 'A')]\n",
      "\n",
      "All the permutations of the given container is:\n",
      "[(0, 1), (0, 2), (1, 0), (1, 2), (2, 0), (2, 1)]\n"
     ]
    }
   ],
   "source": [
    "\"\"\"\n",
    "Permutations(): Permutations() as the name speaks for itself is used to generate all possible permutations \n",
    "of an iterable. All elements are treated as unique based on their position and not their values. This function \n",
    "takes an iterable and group_size, if the value of group_size \n",
    "is not specified or is equal to None then the value of group_size becomes length of the iterable.\"\"\"\n",
    "\n",
    "from itertools import permutations  \n",
    "    \n",
    "print (\"All the permutations of the given list is:\")   \n",
    "print (list(permutations([1, 'geeks'], 2)))  \n",
    "print()  \n",
    "\n",
    "print (\"All the permutations of the given string is:\")   \n",
    "print (list(permutations('AB')))  \n",
    "print()  \n",
    "    \n",
    "print (\"All the permutations of the given container is:\")   \n",
    "print(list(permutations(range(3), 2))) "
   ]
  },
  {
   "cell_type": "code",
   "execution_count": 10,
   "metadata": {},
   "outputs": [
    {
     "name": "stdout",
     "output_type": "stream",
     "text": [
      "The sum after each iteration is : [1, 5, 10, 17]\n",
      "The product after each iteration is : [1, 4, 20, 140]\n"
     ]
    }
   ],
   "source": [
    "\"\"\"\n",
    "accumulate(iter, func): This iterator takes two arguments, iterable target and the function which would be \n",
    "followed at each iteration of value in target. If no function is passed, addition takes place by default.\n",
    "If the input iterable is empty, the output iterable will also be empty.\"\"\"\n",
    "\n",
    "import itertools  \n",
    "import operator  \n",
    "  \n",
    "# initializing list 1  \n",
    "li1 = [1, 4, 5, 7]  \n",
    "    \n",
    "# using accumulate()  \n",
    "# prints the successive summation of elements  \n",
    "print (\"The sum after each iteration is : \", end =\"\")  \n",
    "print (list(itertools.accumulate(li1)))  \n",
    "    \n",
    "# using accumulate()  \n",
    "# prints the successive multiplication of elements  \n",
    "print (\"The product after each iteration is : \", end =\"\")  \n",
    "print (list(itertools.accumulate(li1, operator.mul)))"
   ]
  },
  {
   "cell_type": "code",
   "execution_count": 11,
   "metadata": {},
   "outputs": [
    {
     "name": "stdout",
     "output_type": "stream",
     "text": [
      "The compressed values in string are : ['G', 'F', 'G']\n"
     ]
    }
   ],
   "source": [
    "\"\"\"\n",
    "compress(iter, selector): This iterator selectively picks the values to print from the passed container \n",
    "according to the boolean list value passed as other arguments.\n",
    "The arguments corresponding to boolean true are printed else all are skipped.\n",
    "\"\"\"\n",
    "import itertools \n",
    "  \n",
    "  \n",
    "# using compress() selectively print data values  \n",
    "print (\"The compressed values in string are : \", end =\"\")  \n",
    "print (list(itertools.compress('GEEKSFORGEEKS', [1, 0, 0, 0, 0, 1, 0, 0, 1, 0, 0, 0, 0]))) "
   ]
  },
  {
   "cell_type": "code",
   "execution_count": 12,
   "metadata": {},
   "outputs": [
    {
     "name": "stdout",
     "output_type": "stream",
     "text": [
      "The values after condition returns false : [5, 7, 8]\n"
     ]
    }
   ],
   "source": [
    "\"\"\"\n",
    "dropwhile(func, seq): \n",
    "This iterator starts printing the characters only after the func. in argument returns false for the first time.\"\"\"\n",
    "\n",
    "import itertools \n",
    "  \n",
    "  \n",
    "# initializing list   \n",
    "li = [2, 4, 5, 7, 8]  \n",
    "    \n",
    "# using dropwhile() to start displaying after condition is false  \n",
    "print (\"The values after condition returns false : \", end =\"\")  \n",
    "print (list(itertools.dropwhile(lambda x : x % 2 == 0, li)))  "
   ]
  },
  {
   "cell_type": "code",
   "execution_count": 13,
   "metadata": {},
   "outputs": [
    {
     "name": "stdout",
     "output_type": "stream",
     "text": [
      "The values that return false to function are : [5, 7]\n"
     ]
    }
   ],
   "source": [
    "\"\"\"\n",
    "filterfalse(func, seq): As the name suggests, this iterator prints only values \n",
    "that return false for the passed function.\n",
    "\"\"\"\n",
    "import itertools  \n",
    "    \n",
    "# initializing list   \n",
    "li = [2, 4, 5, 7, 8] \n",
    "  \n",
    "# using filterfalse() to print false values  \n",
    "print (\"The values that return false to function are : \", end =\"\")  \n",
    "print (list(itertools.filterfalse(lambda x : x % 2 == 0, li)))"
   ]
  },
  {
   "cell_type": "code",
   "execution_count": 14,
   "metadata": {},
   "outputs": [
    {
     "name": "stdout",
     "output_type": "stream",
     "text": [
      "The list values till 1st false value are : [2, 4, 6]\n"
     ]
    }
   ],
   "source": [
    "\"\"\"\n",
    "takewhile(func, iterable): This iterator is opposite of dropwhile(), \n",
    "it prints the values till the function returns false for 1st time.\n",
    "\"\"\"\n",
    "import itertools  \n",
    "    \n",
    "# initializing list   \n",
    "li = [2, 4, 6, 7, 8, 10, 20]  \n",
    "    \n",
    "# using takewhile() to print values till condition is false.  \n",
    "print (\"The list values till 1st false value are : \", end =\"\")  \n",
    "print (list(itertools.takewhile(lambda x : x % 2 == 0, li ))) "
   ]
  },
  {
   "cell_type": "code",
   "execution_count": null,
   "metadata": {},
   "outputs": [],
   "source": []
  }
 ],
 "metadata": {
  "kernelspec": {
   "display_name": "Python 3",
   "language": "python",
   "name": "python3"
  },
  "language_info": {
   "codemirror_mode": {
    "name": "ipython",
    "version": 3
   },
   "file_extension": ".py",
   "mimetype": "text/x-python",
   "name": "python",
   "nbconvert_exporter": "python",
   "pygments_lexer": "ipython3",
   "version": "3.7.6"
  }
 },
 "nbformat": 4,
 "nbformat_minor": 4
}
