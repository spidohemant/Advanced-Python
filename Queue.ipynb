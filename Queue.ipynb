{
 "cells": [
  {
   "cell_type": "code",
   "execution_count": 4,
   "metadata": {},
   "outputs": [
    {
     "name": "stdout",
     "output_type": "stream",
     "text": [
      "deque(['Ram', 'Tarun', 'Asif', 'John'])\n",
      "deque(['Ram', 'Tarun', 'Asif', 'John', 'Akbar'])\n",
      "deque(['Birbal', 'Ram', 'Tarun', 'Asif', 'John', 'Akbar'])\n",
      "Birbal\n",
      "Ram\n",
      "deque(['Tarun', 'Asif', 'John', 'Akbar'])\n"
     ]
    }
   ],
   "source": [
    "from collections import deque \n",
    "queue = deque([\"Ram\", \"Tarun\", \"Asif\", \"John\"]) \n",
    "print(queue) \n",
    "queue.append(\"Akbar\") \n",
    "print(queue) \n",
    "queue.appendleft(\"Birbal\") \n",
    "print(queue) \n",
    "print(queue.popleft())                  \n",
    "print(queue.r())                  \n",
    "print(queue)\n"
   ]
  },
  {
   "cell_type": "code",
   "execution_count": null,
   "metadata": {},
   "outputs": [],
   "source": []
  }
 ],
 "metadata": {
  "kernelspec": {
   "display_name": "Python 3",
   "language": "python",
   "name": "python3"
  },
  "language_info": {
   "codemirror_mode": {
    "name": "ipython",
    "version": 3
   },
   "file_extension": ".py",
   "mimetype": "text/x-python",
   "name": "python",
   "nbconvert_exporter": "python",
   "pygments_lexer": "ipython3",
   "version": "3.7.3"
  }
 },
 "nbformat": 4,
 "nbformat_minor": 2
}
